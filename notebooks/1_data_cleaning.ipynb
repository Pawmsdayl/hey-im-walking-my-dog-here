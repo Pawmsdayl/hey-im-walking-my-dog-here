{
 "cells": [
  {
   "cell_type": "markdown",
   "metadata": {},
   "source": [
    "# Dataset Information  \n",
    "Name: DOHMH Dog Bite Data  \n",
    "Author: New York City Department of Health and Mental Hygiene (NYC DOHMH)  \n",
    "Source: https://data.cityofnewyork.us/Health/DOHMH-Dog-Bite-Data/rsgh-akpg/about_data  \n",
    "Accessed: 2024 November 2  \n",
    "Method of Data Collection:  \n",
    "* Reports received online, mail, fax or by phone to 311\n",
    "* NYC DOHMH Animal Bite Unit"
   ]
  },
  {
   "cell_type": "markdown",
   "metadata": {},
   "source": [
    "# Feature Information\n",
    "<table style='margin-left: auto; margin-right: auto'>\n",
    "    <tr>\n",
    "        <th colspan='3'> DOHMH Dog Bite Data </th>\n",
    "    <tr>\n",
    "    <tr>\n",
    "        <th> Column Name </th>\n",
    "        <th> Description </th>\n",
    "        <th> Data Type </th>\n",
    "    </tr>\n",
    "    <tr>\n",
    "        <td> UniqueID </th>\n",
    "        <td> Unique dog bite case identifier </th>\n",
    "        <td> Text </th>\n",
    "    </tr>\n",
    "    <tr>\n",
    "        <td> DateOfBite </th>\n",
    "        <td> Date bitten </th>\n",
    "        <td> Floating Timestamp </th>\n",
    "    </tr>\n",
    "    <tr>\n",
    "        <td> Species </th>\n",
    "        <td> Animal Type (Dog) </th>\n",
    "        <td> Text </th>\n",
    "    </tr>\n",
    "    <tr>\n",
    "        <td> Breed </th>\n",
    "        <td> Breed type </th>\n",
    "        <td> Text </th>\n",
    "    </tr>\n",
    "        <tr>\n",
    "        <td> Age </th>\n",
    "        <td> Dog's age at time of bite. Numbers with 'M' indicate months. </th>\n",
    "        <td> Text </th>\n",
    "    </tr>\n",
    "    <tr>\n",
    "        <td> Gender </th>\n",
    "        <td> Sex of Dog. M=Male, F=Female, U=Unknown </th>\n",
    "        <td> Text </th>\n",
    "    </tr>\n",
    "    <tr>\n",
    "        <td> SpayNeuter </th>\n",
    "        <td> Surgical removal of dog's reproductive organs. True (reported to DOHMH as Spayed or Neutered), False (Unknown or Not Spayed or Neutered) </th>\n",
    "        <td> Boolean </th>\n",
    "    </tr>\n",
    "    <tr>\n",
    "        <td> Borough </th>\n",
    "        <td> Dog bite Borough. Other' indicates that the bite took place outside New York City </th>\n",
    "        <td> Text </th>\n",
    "    </tr>\n",
    "    <tr>\n",
    "        <td> ZipCode </th>\n",
    "        <td> Dog bite Zipcode. Blank ZipCode indicates that information was not available </th>\n",
    "        <td> Text </th>\n",
    "    </tr>\n",
    "</table>"
   ]
  }
 ],
 "metadata": {
  "language_info": {
   "name": "python"
  }
 },
 "nbformat": 4,
 "nbformat_minor": 2
}
